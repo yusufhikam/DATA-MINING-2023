{
  "nbformat": 4,
  "nbformat_minor": 0,
  "metadata": {
    "colab": {
      "provenance": []
    },
    "kernelspec": {
      "name": "python3",
      "display_name": "Python 3"
    },
    "language_info": {
      "name": "python"
    }
  },
  "cells": [
    {
      "cell_type": "markdown",
      "source": [
        "# **Import library**"
      ],
      "metadata": {
        "id": "9LDTfOLreH6e"
      }
    },
    {
      "cell_type": "code",
      "execution_count": null,
      "metadata": {
        "id": "nfpy3ovKdy3d"
      },
      "outputs": [],
      "source": [
        "import numpy as np\n",
        "from matplotlib import pyplot as plt\n",
        "from matplotlib.pyplot import cm\n",
        "import time\n",
        "import itertools"
      ]
    },
    {
      "cell_type": "markdown",
      "source": [
        "# **Baca dataset dari file**"
      ],
      "metadata": {
        "id": "i_3LSRdNeaRF"
      }
    },
    {
      "cell_type": "code",
      "source": [
        "datasetPath = 'dataku.txt'\n",
        "dataset = np.loadtxt(datasetPath, delimiter=\" \")"
      ],
      "metadata": {
        "id": "9Mid6bm2eenz"
      },
      "execution_count": null,
      "outputs": []
    },
    {
      "cell_type": "markdown",
      "source": [
        "# **mendefinisikan parameter k-means klustering**"
      ],
      "metadata": {
        "id": "GxxfvhNaeuOE"
      }
    },
    {
      "cell_type": "code",
      "source": [
        "k = 2 # jumlah kluster yg diinginkan\n",
        "iterationCounter = 0 #counter untuk iterasi\n",
        "input = dataset #input data\n"
      ],
      "metadata": {
        "id": "LBst03eEeyzM"
      },
      "execution_count": null,
      "outputs": []
    },
    {
      "cell_type": "markdown",
      "source": [
        "# **fungsi untuk inisialisasi titik pusat klaster(random)**\n",
        "\n"
      ],
      "metadata": {
        "id": "_9nDaBTofG0f"
      }
    },
    {
      "cell_type": "code",
      "source": [
        "def initCentroid(dataIn, k):\n",
        "    result = dataIn[np.random.choice(dataIn.shape[0], k, replace=False)]\n",
        "    return result"
      ],
      "metadata": {
        "id": "mtwTfs_WfKnO"
      },
      "execution_count": null,
      "outputs": []
    },
    {
      "cell_type": "markdown",
      "source": [
        "# **fungsi untuk plot hasil klaster per iterasi**"
      ],
      "metadata": {
        "id": "vDfGfu0BftSR"
      }
    },
    {
      "cell_type": "code",
      "source": [
        "def plotClusterResult(listClusterMembers, centroid, iteration, converged):\n",
        "    n = listClusterMembers.__len__()\n",
        "    color = iter(cm.rainbow(np.linspace(0,1,n)))\n",
        "    plt.figure('result')\n",
        "    plt.clf()\n",
        "    plt.title('Iteration-' + iteration)\n",
        "    marker = itertools.cycle(('.','*','^','x','+'))\n",
        "    for i in range(n):\n",
        "        col = next(color)\n",
        "        memberCluster = np.asmatrix(listClusterMembers[i])\n",
        "        plt.scatter(np.ravel(memberCluster[:,0]), np.ravel(memberCluster[:,1]),\n",
        "                    marker=marker.__next__(), s=100,c=col, label='klaster'+str(i+1))\n",
        "        for i in range(n):\n",
        "            plt.scatter((centroid[i,0]), (centroid[i,1]), marker=marker.__next__(),\n",
        "                        c=col, label='centroid-'+ str(i+1))\n",
        "            if(converged == 0):\n",
        "              plt.legend()\n",
        "              plt.ion()\n",
        "              plt.show()\n",
        "              plt.pause(0.1)\n",
        "            if(converged == 1):\n",
        "              plt.legend()\n",
        "              plt.show(block=True)"
      ],
      "metadata": {
        "id": "EPz6n4a_fyWs"
      },
      "execution_count": null,
      "outputs": []
    },
    {
      "cell_type": "markdown",
      "source": [
        "# **Fungsi utama algoritma K-Means**"
      ],
      "metadata": {
        "id": "64Wpofkvi7gL"
      }
    },
    {
      "cell_type": "code",
      "source": [
        "def kMeans(data, centroidInit):\n",
        "    nCluster = k\n",
        "    global iterationCounter\n",
        "    centroidInit = np.matrix(centroidInit)\n",
        "\n",
        "    while(True):\n",
        "        iterationCounter += 1\n",
        "        euclideanMatrixAllCluster = np.ndarray(shape=(data.shape[0],0))\n",
        "        for i in range(0, nCluster):\n",
        "          centroidRepeated = np.repeat(centroidInit[i,:], data.shape[0], axis=0)\n",
        "          deltaMatrix = abs(np.subtract(data, centroidRepeated))\n",
        "          euclideanMatrix = np.sqrt(np.square(deltaMatrix).sum(axis=1))\n",
        "          euclideanMatrixAllCluster = np.concatenate((euclideanMatrixAllCluster, euclideanMatrix), axis=1)\n",
        "    clusterMatrix = np.ravel(np.argmin(np.matrix(euclideanMatrixAllCluster), axis=1))\n",
        "    listClusterMember = [[] for i in range(k)]\n",
        "    for i in range(0, data.shape[0]):\n",
        "        listClusterMember[np.asscalar(clusterMatrix[i])].append(data[i,:])\n",
        "    newCentroid = np.ndarray(shape=(0, centroidInit.shape[1]))\n",
        "    for i in range(0, nCluster):\n",
        "        memberCluster = np.asmatrix(listClusterMember[i])\n",
        "        centroidCluster = memberCluster.mean(axis=0)\n",
        "        newCentroid = np.concatenate((newCentroid, centroidCluster), axis=0)\n",
        "        print('iter: ', iterationCounter)\n",
        "        print('centroid: ', newCentroid)\n",
        "        if((centroidInit == newCentroid).all()):\n",
        "           break\n",
        "        centroidInit = newCentroid\n",
        "        plotClusterResult(listClusterMember, centroidInit, str(iterationCounter), 0)\n",
        "        time.sleep(1)\n",
        "    return listClusterMember, centroidInit"
      ],
      "metadata": {
        "id": "Fr0xrAPPi_Vv"
      },
      "execution_count": null,
      "outputs": []
    },
    {
      "cell_type": "markdown",
      "source": [
        "# **Memanggil fungsi inisialisasi klaster**"
      ],
      "metadata": {
        "id": "kyOTkkkOmSA2"
      }
    },
    {
      "cell_type": "code",
      "source": [
        "centroidInit = initCentroid(input, k)\n",
        "clusterResults, centroid = kMeans(input, centroidInit)\n",
        "plotClusterResult(clusterResults, centroid, str(iterationCounter) + '(converged)', 1)"
      ],
      "metadata": {
        "id": "fSgWmfBAmV_3"
      },
      "execution_count": null,
      "outputs": []
    }
  ]
}