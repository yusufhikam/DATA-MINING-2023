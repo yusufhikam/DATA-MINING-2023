{
  "nbformat": 4,
  "nbformat_minor": 0,
  "metadata": {
    "colab": {
      "provenance": []
    },
    "kernelspec": {
      "name": "python3",
      "display_name": "Python 3"
    },
    "language_info": {
      "name": "python"
    }
  },
  "cells": [
    {
      "cell_type": "code",
      "execution_count": null,
      "metadata": {
        "id": "JE-_i6xLtELO"
      },
      "outputs": [],
      "source": [
        "import matplotlib.pyplot as plt\n",
        "import numpy as np\n",
        "import pandas as pd\n",
        "from sklearn.cluster import kMeans"
      ]
    },
    {
      "cell_type": "code",
      "source": [
        "dataset = pd.read_csv('D:\\konsumen.csv')\n",
        "dataset.keys()\n",
        "\n",
        "dataku = pd.DataFrame(dataset)\n",
        "dataku.head()"
      ],
      "metadata": {
        "id": "6wiWSBItt9dV"
      },
      "execution_count": null,
      "outputs": []
    },
    {
      "cell_type": "code",
      "source": [
        "X = np.asarray(dataset)\n",
        "print(X)"
      ],
      "metadata": {
        "id": "5cb1imHv90fj"
      },
      "execution_count": null,
      "outputs": []
    },
    {
      "cell_type": "code",
      "source": [
        "plt.scatter(X[:,0], X[:,1], label='True Position')\n",
        "plt.xlabel(\"Gaji\")\n",
        "plt.ylabel(\"Pengeluaran\")\n",
        "plt.title(\"Grafik Penyebaran Data Konsumen\")\n",
        "plt.show()"
      ],
      "metadata": {
        "id": "aVCjor1n93Am"
      },
      "execution_count": null,
      "outputs": []
    },
    {
      "cell_type": "code",
      "source": [
        "kmeans = KMeans(n_clusters=2)\n",
        "kmeans.fit(X)"
      ],
      "metadata": {
        "id": "r00YnqMW955c"
      },
      "execution_count": null,
      "outputs": []
    },
    {
      "cell_type": "code",
      "source": [
        "print(kmeans.cluster_centers_)"
      ],
      "metadata": {
        "id": "8ZNK5iGX98eR"
      },
      "execution_count": null,
      "outputs": []
    },
    {
      "cell_type": "code",
      "source": [
        "plt.scatter(X[:,0], X[:,1], c=kmeans.labels_, cmap='rainbow')\n",
        "plt.xlabel(\"Gaji\")\n",
        "plt.ylabel(\"Pengeluaran\")\n",
        "plt.title(\"Grafik Hasil Klasterisasi Data Gaji dan Pengeluaran Konsumen\")\n",
        "plt.show()"
      ],
      "metadata": {
        "id": "jC4LtzY69-zt"
      },
      "execution_count": null,
      "outputs": []
    },
    {
      "cell_type": "code",
      "source": [
        "plt.scatter(X[:,0], X[:,1], c=kmeans.labels_, cmap='rainbow')\n",
        "plt.scatter(kmeans.cluster_centers_[:,0], kmeans.cluster_centers_[:,1], color='black')\n",
        "plt.xlabel(\"Gaji\")\n",
        "plt.ylabel(\"Pengeluaran\")\n",
        "plt.title(\"Grafik Hasil Klasterisasi Data Gaji dan Pengeluaran Konsumen\")\n",
        "plt.show()"
      ],
      "metadata": {
        "id": "RdQYxqyp-Bja"
      },
      "execution_count": null,
      "outputs": []
    }
  ]
}